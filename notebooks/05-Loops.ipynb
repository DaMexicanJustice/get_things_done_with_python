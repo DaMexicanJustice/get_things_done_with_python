{
 "cells": [
  {
   "cell_type": "markdown",
   "metadata": {},
   "source": [
    "# `for` Loops\n",
    "\n",
    "## Iterating over Lists and Sequences"
   ]
  },
  {
   "cell_type": "code",
   "execution_count": 1,
   "metadata": {
    "collapsed": false
   },
   "outputs": [
    {
     "name": "stdout",
     "output_type": "stream",
     "text": [
      "0\n",
      "1\n",
      "2\n",
      "3\n"
     ]
    }
   ],
   "source": [
    "for i in [0, 1, 2, 3]:\n",
    "    print(i)"
   ]
  },
  {
   "cell_type": "code",
   "execution_count": 2,
   "metadata": {
    "collapsed": false
   },
   "outputs": [
    {
     "name": "stdout",
     "output_type": "stream",
     "text": [
      "0\n",
      "1\n",
      "2\n",
      "3\n"
     ]
    }
   ],
   "source": [
    "for i in range(4):\n",
    "    print(i)"
   ]
  },
  {
   "cell_type": "markdown",
   "metadata": {},
   "source": [
    "## Iterating over Lists and Sequences with Indices\n",
    "\n",
    "In case you want to iterate over a list or sequence of values in and you need to have access to the index of each element, you could do the following:"
   ]
  },
  {
   "cell_type": "code",
   "execution_count": 3,
   "metadata": {
    "collapsed": false
   },
   "outputs": [
    {
     "name": "stdout",
     "output_type": "stream",
     "text": [
      "0 4\n",
      "1 3\n",
      "2 2\n",
      "3 1\n"
     ]
    }
   ],
   "source": [
    "values = range(4, 0, -1)\n",
    "for idx in range(len(values)):\n",
    "    print(idx, values[idx])"
   ]
  },
  {
   "cell_type": "markdown",
   "metadata": {},
   "source": [
    "However, **do not do it as shown above**! First, it is more complicated and second, it is not \"Pythonic\". Instead do the following:"
   ]
  },
  {
   "cell_type": "code",
   "execution_count": 4,
   "metadata": {
    "collapsed": false
   },
   "outputs": [
    {
     "name": "stdout",
     "output_type": "stream",
     "text": [
      "0 4\n",
      "1 3\n",
      "2 2\n",
      "3 1\n"
     ]
    }
   ],
   "source": [
    "for idx, value in enumerate(range(4, 0, -1)):\n",
    "    print(idx, value)"
   ]
  },
  {
   "cell_type": "markdown",
   "metadata": {},
   "source": [
    "## Checking Lists for Element Containment"
   ]
  },
  {
   "cell_type": "code",
   "execution_count": 5,
   "metadata": {
    "collapsed": false
   },
   "outputs": [
    {
     "data": {
      "text/plain": [
       "True"
      ]
     },
     "execution_count": 5,
     "metadata": {},
     "output_type": "execute_result"
    }
   ],
   "source": [
    "1 in [0, 1, 2, 3]"
   ]
  },
  {
   "cell_type": "code",
   "execution_count": 6,
   "metadata": {
    "collapsed": false
   },
   "outputs": [
    {
     "data": {
      "text/plain": [
       "True"
      ]
     },
     "execution_count": 6,
     "metadata": {},
     "output_type": "execute_result"
    }
   ],
   "source": [
    "1 in range(4, 0, -1)"
   ]
  },
  {
   "cell_type": "code",
   "execution_count": 7,
   "metadata": {
    "collapsed": false
   },
   "outputs": [
    {
     "data": {
      "text/plain": [
       "False"
      ]
     },
     "execution_count": 7,
     "metadata": {},
     "output_type": "execute_result"
    }
   ],
   "source": [
    "'Hej' in [0, 1, 2, 3]"
   ]
  },
  {
   "cell_type": "code",
   "execution_count": 8,
   "metadata": {
    "collapsed": false
   },
   "outputs": [
    {
     "data": {
      "text/plain": [
       "False"
      ]
     },
     "execution_count": 8,
     "metadata": {},
     "output_type": "execute_result"
    }
   ],
   "source": [
    "1 in ['Call', 'me', 'Ishmael']"
   ]
  },
  {
   "cell_type": "code",
   "execution_count": 9,
   "metadata": {
    "collapsed": false
   },
   "outputs": [
    {
     "data": {
      "text/plain": [
       "False"
      ]
     },
     "execution_count": 9,
     "metadata": {},
     "output_type": "execute_result"
    }
   ],
   "source": [
    "'Hej' in ['Call', 'me', 'Ishmael']"
   ]
  },
  {
   "cell_type": "code",
   "execution_count": 10,
   "metadata": {
    "collapsed": false
   },
   "outputs": [
    {
     "name": "stdout",
     "output_type": "stream",
     "text": [
      "The slowest run took 10.92 times longer than the fastest. This could mean that an intermediate result is being cached.\n",
      "1000000 loops, best of 3: 294 ns per loop\n"
     ]
    }
   ],
   "source": [
    "%timeit 55000 in range(1000000)"
   ]
  },
  {
   "cell_type": "code",
   "execution_count": 11,
   "metadata": {
    "collapsed": false
   },
   "outputs": [
    {
     "name": "stdout",
     "output_type": "stream",
     "text": [
      "1000 loops, best of 3: 1.73 ms per loop\n"
     ]
    }
   ],
   "source": [
    "def is_in(el, values):\n",
    "    for value in values:\n",
    "        if el == value:\n",
    "            return True\n",
    "        \n",
    "%timeit is_in(55000, range(1000000))"
   ]
  },
  {
   "cell_type": "markdown",
   "metadata": {},
   "source": [
    "# `while` Loops\n",
    "\n",
    "The `for` loop takes a collection of items and executes a block of code once for each item in the collection. In contrast, the `while` loop runs as long as, or while, a certain condition is `True`.\n",
    "\n",
    "It has the syntax:\n",
    "\n",
    "```python\n",
    "while boolean_expression:\n",
    "    pass\n",
    "```\n"
   ]
  },
  {
   "cell_type": "code",
   "execution_count": 12,
   "metadata": {
    "collapsed": false
   },
   "outputs": [
    {
     "name": "stdout",
     "output_type": "stream",
     "text": [
      "0\n",
      "1\n",
      "2\n",
      "3\n",
      "4\n",
      "5\n"
     ]
    }
   ],
   "source": [
    "# counting to five\n",
    "current_number = 0\n",
    "\n",
    "while current_number <= 5:\n",
    "    print(current_number)\n",
    "    current_number += 1"
   ]
  },
  {
   "cell_type": "markdown",
   "metadata": {},
   "source": [
    "A computer program's main loop, such as the one of this notebook, is very likely implemented via a `while` loop.\n",
    "\n",
    "To exit a `while` loop immediately without running any remaining code in the loop, regardless of the results of any conditional test, use the break statement. The `break` statement directs the  ow of your program; you can use it to control which lines of code are executed and which are not, so the program only executes code that you want it to, when you want it to.\n",
    "\n",
    "Note, you can use the `break` statement in any of Python’s loops. For example, you could use break to quit a for loop that is working through a list or a dictionary."
   ]
  },
  {
   "cell_type": "code",
   "execution_count": 16,
   "metadata": {
    "collapsed": false
   },
   "outputs": [
    {
     "name": "stdout",
     "output_type": "stream",
     "text": [
      "5 +6\n",
      "11\n",
      "print('Hej')\n",
      "Hej\n",
      "None\n",
      "quit!\n"
     ]
    }
   ],
   "source": [
    "while True:\n",
    "    expression = input()\n",
    "    if expression == 'quit!':\n",
    "        break\n",
    "    print(eval(expression))"
   ]
  },
  {
   "cell_type": "markdown",
   "metadata": {},
   "source": [
    "Rather than breaking out of a loop entirely without executing the rest of its code, you can use the `continue` statement to return to the beginning of the loop based on the result of a conditional test."
   ]
  },
  {
   "cell_type": "code",
   "execution_count": 15,
   "metadata": {
    "collapsed": false
   },
   "outputs": [
    {
     "name": "stdout",
     "output_type": "stream",
     "text": [
      "nop!\n",
      "nop!\n",
      "3 + 9\n",
      "12\n",
      "quit!\n"
     ]
    }
   ],
   "source": [
    "while True:\n",
    "    expression = input()\n",
    "    if expression == 'quit!':\n",
    "        break\n",
    "    if expression == 'nop!':\n",
    "        continue\n",
    "    print(eval(expression))"
   ]
  },
  {
   "cell_type": "code",
   "execution_count": null,
   "metadata": {
    "collapsed": true
   },
   "outputs": [],
   "source": [
    "eval?"
   ]
  },
  {
   "cell_type": "markdown",
   "metadata": {},
   "source": [
    "# Exercises!!!\n",
    "\n",
    "![image](https://media.giphy.com/media/13HgwGsXF0aiGY/giphy.gif)\n",
    "\n",
    "\n",
    "  1. Write a program that generates via a loop 20 random project group names consisting of `Adjective Noun` combinations.\n",
    "      * Find a list of most common English nouns and adjectives online - with at least 100 entries each.\n",
    "      * Keep the source of these lists as comments in your programs\n",
    "      * **Hint** you can use the standard libraries `random.choice()` function. Figure out how to use it by typing \n",
    "      ```python\n",
    "      import random\n",
    "      random.choice?\n",
    "      ```\n",
    "        into your interactive environment.\n",
    "  2. Write a program that creates gramatically valid English sentences.\n",
    "    * Here, we consider a sentence to be gramatically correct when it follows the simple English grammar of the form: `Article Noun Verb.` That is, even the sentence `A insect fly.` is, for the moment, considered correct.\n",
    "    * Create additionally to the exercise above, a list of definite and indefinite articles and verbs from an online resource.\n",
    "  3. Extend the above program to generate all possible sentences with the given words."
   ]
  },
  {
   "cell_type": "code",
   "execution_count": 3,
   "metadata": {
    "collapsed": false
   },
   "outputs": [
    {
     "name": "stdout",
     "output_type": "stream",
     "text": [
      "Cerulean a very hard substance\n"
     ]
    }
   ],
   "source": [
    "import random\n",
    "\n",
    "adject = ['Adamant', 'unyielding', 'a very hard substance',\n",
    "'Adroit', 'clever', 'resourceful',\n",
    "'Amatory', 'sexual',\n",
    "'Animistic', 'quality of recurrence or reversion to earlier form',\n",
    "'Antic', 'clownish', 'frolicsome',\n",
    "'Arcadian', 'serene',\n",
    "'Baleful', 'deadly', 'foreboding',\n",
    "'Bellicose', 'quarrelsome',\n",
    "'Bilious', 'unpleasant', 'peevish',\n",
    "'Boorish', 'crude', 'insensitive',\n",
    "'Calamitous', 'disastrous',\n",
    "'Caustic', 'corrosive', 'sarcastic',\n",
    "'Cerulean', 'sky blue',]\n",
    "\n",
    "noun = ['Adamant', 'unyielding', 'a very hard substance',\n",
    "'Adroit', 'clever', 'resourceful',\n",
    "'Amatory', 'sexual',\n",
    "'Animistic', 'quality of recurrence or reversion to earlier form',\n",
    "'Antic', 'clownish', 'frolicsome',\n",
    "'Arcadian', 'serene',\n",
    "'Baleful', 'deadly', 'foreboding',\n",
    "'Bellicose', 'quarrelsome',\n",
    "'Bilious', 'unpleasant', 'peevish',\n",
    "'Boorish', 'crude', 'insensitive',\n",
    "'Calamitous', 'disastrous',\n",
    "'Caustic', 'corrosive', 'sarcastic',\n",
    "'Cerulean', 'sky blue',]\n",
    "\n",
    "randomAdjec = random.choice(adject)\n",
    "randomNoun = random.choice(noun)\n",
    "print((' ').join([randomAdjec, randomNoun]))"
   ]
  },
  {
   "cell_type": "code",
   "execution_count": 6,
   "metadata": {
    "collapsed": false
   },
   "outputs": [
    {
     "name": "stdout",
     "output_type": "stream",
     "text": [
      "a family see\n",
      "the book want\n",
      "an people pay\n",
      "an information move\n",
      "a hour seem\n",
      "the woman die\n",
      "the result hold\n",
      "an country change\n",
      "a health consider\n",
      "a change say\n",
      "an guy expect\n",
      "a system serve\n",
      "the month lose\n",
      "the area follow\n",
      "the force fall\n",
      "a door grow\n",
      "an car want\n",
      "a service buy\n",
      "the law tell\n",
      "a case speak\n"
     ]
    }
   ],
   "source": [
    "import random\n",
    "\n",
    "# https://www.espressoenglish.net/100-common-adjectives-in-english/\n",
    "\n",
    "adj = [\"other\",\n",
    "\"new\",\n",
    "\"good\",\n",
    "\"high\",\n",
    "\"old\",\n",
    "\"great\",\n",
    "\"big\",\n",
    "\"American\",\n",
    "\"small\",\n",
    "\"large\",\n",
    "\"national\",\n",
    "\"young\",\n",
    "\"different\",\n",
    "\"black\",\n",
    "\"long\",\n",
    "\"little\",\n",
    "\"important\",\n",
    "\"political\",\n",
    "\"bad\",\n",
    "\"white\",\n",
    "\"real\",\n",
    "\"best\",\n",
    "\"right\",\n",
    "\"social\",\n",
    "\"only\",\n",
    "\"public\",\n",
    "\"sure\",\n",
    "\"low\",\n",
    "\"early\",\n",
    "\"able\",\n",
    "\"human\",\n",
    "\"local\",\n",
    "\"late\",\n",
    "\"hard\",\n",
    "\"major\",\n",
    "\"better\",\n",
    "\"economic\",\n",
    "\"strong\",\n",
    "\"possible\",\n",
    "\"whole\",\n",
    "\"free\",\n",
    "\"military\",\n",
    "\"true\",\n",
    "\"federal\",\n",
    "\"international\",\n",
    "\"full\",\n",
    "\"special\",\n",
    "\"easy\",\n",
    "\"clear\",\n",
    "\"recent\",\n",
    "\"certain\",\n",
    "\"personal\",\n",
    "\"open\",\n",
    "\"red\",\n",
    "\"difficult\",\n",
    "\"available\",\n",
    "\"likely\",\n",
    "\"short\",\n",
    "\"single\",\n",
    "\"medical\",\n",
    "\"current\",\n",
    "\"wrong\",\n",
    "\"private\",\n",
    "\"past\",\n",
    "\"foreign\",\n",
    "\"fine\",\n",
    "\"common\",\n",
    "\"poor\",\n",
    "\"natural\",\n",
    "\"significant\",\n",
    "\"similar\",\n",
    "\"hot\",\n",
    "\"dead\",\n",
    "\"central\",\n",
    "\"happy\",\n",
    "\"serious\",\n",
    "\"ready\",\n",
    "\"simple\",\n",
    "\"left\",\n",
    "\"physical\",\n",
    "\"general\",\n",
    "\"environmental\",\n",
    "\"financial\",\n",
    "\"blue\",\n",
    "\"democratic\",\n",
    "\"dark\",\n",
    "\"various\",\n",
    "\"entire\",\n",
    "\"close\",\n",
    "\"legal\",\n",
    "\"religious\",\n",
    "\"cold\",\n",
    "\"final\",\n",
    "\"main\",\n",
    "\"green\",\n",
    "\"nice\",\n",
    "\"huge\",\n",
    "\"popular\",\n",
    "\"traditional\",\n",
    "\"cultural\"]\n",
    "\n",
    "articles = [\"the\", \"a\", \"an\"]\n",
    "\n",
    "# https://www.espressoenglish.net/100-common-nouns-in-english/\n",
    "\n",
    "nouns = [\"time\",\n",
    "\"year\",\n",
    "\"people\",\n",
    "\"way\",\n",
    "\"day\",\n",
    "\"man\",\n",
    "\"thing\",\n",
    "\"woman\",\n",
    "\"life\",\n",
    "\"child\",\n",
    "\"world\",\n",
    "\"school\",\n",
    "\"state\",\n",
    "\"family\",\n",
    "\"student\",\n",
    "\"group\",\n",
    "\"country\",\n",
    "\"problem\",\n",
    "\"hand\",\n",
    "\"part\",\n",
    "\"place\",\n",
    "\"case\",\n",
    "\"week\",\n",
    "\"company\",\n",
    "\"system\",\n",
    "\"program\",\n",
    "\"question\",\n",
    "\"work\",\n",
    "\"government\",\n",
    "\"number\",\n",
    "\"night\",\n",
    "\"point\",\n",
    "\"home\",\n",
    "\"water\",\n",
    "\"room\",\n",
    "\"mother\",\n",
    "\"area\",\n",
    "\"money\",\n",
    "\"story\",\n",
    "\"fact\",\n",
    "\"month\",\n",
    "\"lot\",\n",
    "\"right\",\n",
    "\"study\",\n",
    "\"book\",\n",
    "\"eye\",\n",
    "\"job\",\n",
    "\"word\",\n",
    "\"business\",\n",
    "\"issue\",\n",
    "\"side\",\n",
    "\"kind\",\n",
    "\"head\",\n",
    "\"house\",\n",
    "\"service\",\n",
    "\"friend\",\n",
    "\"father\",\n",
    "\"power\",\n",
    "\"hour\",\n",
    "\"game\",\n",
    "\"line\",\n",
    "\"end\",\n",
    "\"member\",\n",
    "\"law\",\n",
    "\"car\",\n",
    "\"city\",\n",
    "\"community\",\n",
    "\"name\",\n",
    "\"president\",\n",
    "\"team\",\n",
    "\"minute\",\n",
    "\"idea\",\n",
    "\"kid\",\n",
    "\"body\",\n",
    "\"information\",\n",
    "\"back\",\n",
    "\"parent\",\n",
    "\"face\",\n",
    "\"others\",\n",
    "\"level\",\n",
    "\"office\",\n",
    "\"door\",\n",
    "\"health\",\n",
    "\"person\",\n",
    "\"art\",\n",
    "\"war\",\n",
    "\"history\",\n",
    "\"party\",\n",
    "\"result\",\n",
    "\"change\",\n",
    "\"morning\",\n",
    "\"reason\",\n",
    "\"research\",\n",
    "\"girl\",\n",
    "\"guy\",\n",
    "\"moment\",\n",
    "\"air\",\n",
    "\"teacher\",\n",
    "\"force\",\n",
    "\"education\"]\n",
    "\n",
    "# https://www.espressoenglish.net/100-most-common-english-verbs/\n",
    "\n",
    "verbs = [\"be\",\n",
    "\"have\",\n",
    "\"do\",\n",
    "\"say\",\n",
    "\"go\",\n",
    "\"can\",\n",
    "\"get\",\n",
    "\"would\",\n",
    "\"make\",\n",
    "\"know\",\n",
    "\"will\",\n",
    "\"think\",\n",
    "\"take\",\n",
    "\"see\",\n",
    "\"come\",\n",
    "\"could\",\n",
    "\"want\",\n",
    "\"look\",\n",
    "\"use\",\n",
    "\"find\",\n",
    "\"give\",\n",
    "\"tell\",\n",
    "\"work\",\n",
    "\"may\",\n",
    "\"should\",\n",
    "\"call\",\n",
    "\"try\",\n",
    "\"ask\",\n",
    "\"need\",\n",
    "\"feel\",\n",
    "\"become\",\n",
    "\"leave\",\n",
    "\"put\",\n",
    "\"mean\",\n",
    "\"keep\",\n",
    "\"let\",\n",
    "\"begin\",\n",
    "\"seem\",\n",
    "\"help\",\n",
    "\"talk\",\n",
    "\"turn\",\n",
    "\"start\",\n",
    "\"might\",\n",
    "\"show\",\n",
    "\"hear\",\n",
    "\"play\",\n",
    "\"run\",\n",
    "\"move\",\n",
    "\"like\",\n",
    "\"live\",\n",
    "\"believe\",\n",
    "\"hold\",\n",
    "\"bring\",\n",
    "\"happen\",\n",
    "\"must\",\n",
    "\"write\",\n",
    "\"provide\",\n",
    "\"sit\",\n",
    "\"stand\",\n",
    "\"lose\",\n",
    "\"pay\",\n",
    "\"meet\",\n",
    "\"include\",\n",
    "\"continue\",\n",
    "\"set\",\n",
    "\"learn\",\n",
    "\"change\",\n",
    "\"lead\",\n",
    "\"understand\",\n",
    "\"watch\",\n",
    "\"follow\",\n",
    "\"stop\",\n",
    "\"create\",\n",
    "\"speak\",\n",
    "\"read\",\n",
    "\"allow\",\n",
    "\"add\",\n",
    "\"spend\",\n",
    "\"grow\",\n",
    "\"open\",\n",
    "\"walk\",\n",
    "\"win\",\n",
    "\"offer\",\n",
    "\"remember\",\n",
    "\"love\",\n",
    "\"consider\",\n",
    "\"appear\",\n",
    "\"buy\",\n",
    "\"wait\",\n",
    "\"serve\",\n",
    "\"die\",\n",
    "\"send\",\n",
    "\"expect\",\n",
    "\"build\",\n",
    "\"stay\",\n",
    "\"fall\",\n",
    "\"cut\",\n",
    "\"reach\",\n",
    "\"kill\",\n",
    "\"remain\"]\n",
    "\n",
    "for i in range(20):\n",
    "    tmpA = random.randint(0, len(articles)-1)\n",
    "    tmpB = random.randint(0, len(nouns)-1)\n",
    "    tmpC = random.randint(0, len(verbs)-1)\n",
    "    \n",
    "    print(articles[tmpA] + \" \" + nouns[tmpB] + \" \" + verbs[tmpC])"
   ]
  },
  {
   "cell_type": "code",
   "execution_count": 10,
   "metadata": {
    "collapsed": false
   },
   "outputs": [
    {
     "name": "stdout",
     "output_type": "stream",
     "text": [
      "['the time be', 'the time have', 'the time do', 'the time say', 'the time go', 'the time can', 'the time get', 'the time would', 'the time make', 'the time know']\n"
     ]
    }
   ],
   "source": [
    "sentences = []\n",
    "for a in range(len(articles)):\n",
    "    for b in range(len(nouns)):\n",
    "        for c in range(len(verbs)):\n",
    "            sentences.append(articles[a] + \" \" + nouns[b] + \" \" + verbs[c])\n",
    "            \n",
    "print(sentences[0:10])"
   ]
  },
  {
   "cell_type": "code",
   "execution_count": null,
   "metadata": {
    "collapsed": true
   },
   "outputs": [],
   "source": []
  }
 ],
 "metadata": {
  "kernelspec": {
   "display_name": "Python 3",
   "language": "python",
   "name": "python3"
  },
  "language_info": {
   "codemirror_mode": {
    "name": "ipython",
    "version": 3
   },
   "file_extension": ".py",
   "mimetype": "text/x-python",
   "name": "python",
   "nbconvert_exporter": "python",
   "pygments_lexer": "ipython3",
   "version": "3.4.3"
  }
 },
 "nbformat": 4,
 "nbformat_minor": 2
}
