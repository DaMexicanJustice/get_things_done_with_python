{
 "cells": [
  {
   "cell_type": "code",
   "execution_count": 164,
   "metadata": {
    "collapsed": true
   },
   "outputs": [],
   "source": [
    "import warnings\n",
    "warnings.filterwarnings('ignore')\n",
    "\n",
    "# the following line is jupyter notebook specific \n",
    "%matplotlib inline"
   ]
  },
  {
   "cell_type": "markdown",
   "metadata": {},
   "source": [
    "The following introduction to NumPy is based on the following article:\n",
    "    http://www.datadependence.com/2016/05/scientific-python-numpy/\n",
    "    \n",
    "For futher details refer to the official quickstart documentation:\n",
    "https://docs.scipy.org/doc/numpy-dev/user/quickstart.html\n",
    "\n",
    "# Initialization of NumPy Arrays\n",
    "\n",
    "You can initialize a one-dimensional NumPy array, for example, by passing a list or a tuple to `np.array`."
   ]
  },
  {
   "cell_type": "code",
   "execution_count": 165,
   "metadata": {
    "collapsed": false
   },
   "outputs": [
    {
     "name": "stdout",
     "output_type": "stream",
     "text": [
      "[0 1 2 3 4]\n",
      "[0 1 2 3 4]\n"
     ]
    }
   ],
   "source": [
    "import numpy as np\n",
    "\n",
    "a = np.array([0, 1, 2, 3, 4])\n",
    "b = np.array((0, 1, 2, 3, 4))\n",
    "\n",
    "print(a)\n",
    "print(b)"
   ]
  },
  {
   "cell_type": "markdown",
   "metadata": {},
   "source": [
    "Alternatively, you can create a one-dimensional NumPy array with the `np.arange` function, which is similar to its counterpart `range` in the standard library. Read it's documentation with `np.arange?`."
   ]
  },
  {
   "cell_type": "code",
   "execution_count": 167,
   "metadata": {
    "collapsed": false
   },
   "outputs": [
    {
     "name": "stdout",
     "output_type": "stream",
     "text": [
      "[ 9 12 15 18 21 24 27]\n",
      "<class 'numpy.ndarray'>\n"
     ]
    }
   ],
   "source": [
    "c = np.arange(9, 30, 3)\n",
    "print(c)"
   ]
  },
  {
   "cell_type": "markdown",
   "metadata": {},
   "source": [
    "Similar to `np.arange`, `np.linspace` creates an array of evenly spaced numbers over a specified interval."
   ]
  },
  {
   "cell_type": "code",
   "execution_count": 168,
   "metadata": {
    "collapsed": false
   },
   "outputs": [
    {
     "name": "stdout",
     "output_type": "stream",
     "text": [
      "[ 0.          1.57079633  3.14159265  4.71238898  6.28318531]\n"
     ]
    }
   ],
   "source": [
    "pi_steps = np.linspace(0, 2 * np.pi, 5)\n",
    "print(pi_steps)"
   ]
  },
  {
   "cell_type": "markdown",
   "metadata": {},
   "source": [
    "## Indexing Elements"
   ]
  },
  {
   "cell_type": "code",
   "execution_count": 169,
   "metadata": {
    "collapsed": false
   },
   "outputs": [
    {
     "name": "stdout",
     "output_type": "stream",
     "text": [
      "[ 9 12 15 18 21 24 27]\n",
      "9\n",
      "12\n",
      "[15 18 21 24]\n",
      "[12 18 24]\n"
     ]
    }
   ],
   "source": [
    "c = np.arange(9, 30, 3)\n",
    "print(c)\n",
    "print(c[0])  # Get element at index position 0\n",
    "print(c[1])  # Get element at index position 1\n",
    "print(c[2:6])  # Get subarray from index pos. 2 to excluding index pos. 6\n",
    "print(c[1:-1:2])  # Get every second element from subarray"
   ]
  },
  {
   "cell_type": "markdown",
   "metadata": {},
   "source": [
    "# Multi-Dimensional Arrays\n",
    "\n",
    "You can initialize multi-dimensional arrays either explicitely as in the following."
   ]
  },
  {
   "cell_type": "code",
   "execution_count": 172,
   "metadata": {
    "collapsed": false
   },
   "outputs": [
    {
     "name": "stdout",
     "output_type": "stream",
     "text": [
      "(3, 4)\n",
      "(3, 3, 4)\n"
     ]
    }
   ],
   "source": [
    "two_dim = np.array([[ 0,  1,  2,  3],\n",
    "                    [ 4,  5,  6,  7],\n",
    "                    [ 8,  9, 10, 11]])\n",
    "\n",
    "three_dim = np.array([[[ 0,  1,  2,  3],\n",
    "                       [ 4,  5,  6,  7],\n",
    "                       [ 8,  9, 10, 11]],\n",
    "\n",
    "                      [[12, 13, 14, 15],\n",
    "                       [16, 17, 18, 19],\n",
    "                       [20, 21, 22, 23]],\n",
    "\n",
    "                      [[24, 25, 26, 27],\n",
    "                       [28, 29, 30, 31],\n",
    "                       [32, 33, 34, 35]]])\n",
    "print(two_dim.shape)\n",
    "print(three_dim.shape)"
   ]
  },
  {
   "cell_type": "markdown",
   "metadata": {},
   "source": [
    "Or you create a one-dimensional array, which you `reshape` into the desired form."
   ]
  },
  {
   "cell_type": "code",
   "execution_count": 178,
   "metadata": {
    "collapsed": false
   },
   "outputs": [
    {
     "name": "stdout",
     "output_type": "stream",
     "text": [
      "[[11 12 13 14 15]\n",
      " [16 17 18 19 20]\n",
      " [21 22 23 24 25]\n",
      " [26 27 28 29 30]\n",
      " [31 32 33 34 35]]\n",
      "25\n"
     ]
    },
    {
     "data": {
      "text/plain": [
       "array([[ 0,  1,  2,  3],\n",
       "       [ 4,  5,  6,  7],\n",
       "       [ 8,  9, 10, 11]])"
      ]
     },
     "execution_count": 178,
     "metadata": {},
     "output_type": "execute_result"
    }
   ],
   "source": [
    "a = np.arange(11, 36).reshape(5,5)\n",
    "\n",
    "print(a)\n",
    "print(a[2, 4])\n",
    "a.shape\n",
    "np.arange(12).reshape(3,4)"
   ]
  },
  {
   "cell_type": "markdown",
   "metadata": {},
   "source": [
    "When defining shapes the shape coordinates are given in the order '*y*', '*x*' for two-dimensional arrays, '*z*', '*y*', '*x*' for three-dimensional arrays, and so on."
   ]
  },
  {
   "cell_type": "code",
   "execution_count": 179,
   "metadata": {
    "collapsed": false
   },
   "outputs": [
    {
     "name": "stdout",
     "output_type": "stream",
     "text": [
      "[[[ 0  1  2  3  4]\n",
      "  [ 5  6  7  8  9]\n",
      "  [10 11 12 13 14]]\n",
      "\n",
      " [[15 16 17 18 19]\n",
      "  [20 21 22 23 24]\n",
      "  [25 26 27 28 29]]\n",
      "\n",
      " [[30 31 32 33 34]\n",
      "  [35 36 37 38 39]\n",
      "  [40 41 42 43 44]]\n",
      "\n",
      " [[45 46 47 48 49]\n",
      "  [50 51 52 53 54]\n",
      "  [55 56 57 58 59]]]\n"
     ]
    }
   ],
   "source": [
    "a = np.arange(60).reshape((4,3,5))\n",
    "print(a)"
   ]
  },
  {
   "cell_type": "markdown",
   "metadata": {},
   "source": [
    "## Indexing Elements of Multi-dimensional Arrays"
   ]
  },
  {
   "cell_type": "code",
   "execution_count": null,
   "metadata": {
    "collapsed": false
   },
   "outputs": [],
   "source": [
    "a = np.arange(11, 36).reshape(5,5)\n",
    "\n",
    "print(a[0, 1:4])  # get one-dim. subarray of row 0\n",
    "print(a[1:4, 0])  # get one-dim. subarray of column 0\n",
    "print(a[::2,::2])  # get a two-dim. subarray of every second element by row and column\n",
    "print(a[:, 1])  # get the second column"
   ]
  },
  {
   "cell_type": "markdown",
   "metadata": {},
   "source": [
    "![slicing_img](https://1.bp.blogspot.com/-7a-mSPtfScw/Vze66QWv_MI/AAAAAAAAC7c/1PaKQQzwGwY6GIo4RX3u-rsDuCoFlkkaACLcB/s1600/numpy_2D_slicing_diagram.jpg)"
   ]
  },
  {
   "cell_type": "code",
   "execution_count": 180,
   "metadata": {
    "collapsed": false
   },
   "outputs": [
    {
     "name": "stdout",
     "output_type": "stream",
     "text": [
      "[[[10 11 12 13 14]\n",
      "  [15 16 17 18 19]\n",
      "  [20 21 22 23 24]]\n",
      "\n",
      " [[25 26 27 28 29]\n",
      "  [30 31 32 33 34]\n",
      "  [35 36 37 38 39]]\n",
      "\n",
      " [[40 41 42 43 44]\n",
      "  [45 46 47 48 49]\n",
      "  [50 51 52 53 54]]\n",
      "\n",
      " [[55 56 57 58 59]\n",
      "  [60 61 62 63 64]\n",
      "  [65 66 67 68 69]]]\n",
      "17\n",
      "[[20 21 22 23 24]\n",
      " [35 36 37 38 39]\n",
      " [50 51 52 53 54]\n",
      " [65 66 67 68 69]]\n",
      "[[12 17 22]\n",
      " [27 32 37]\n",
      " [42 47 52]\n",
      " [57 62 67]]\n",
      "[[[10 12 14]\n",
      "  [20 22 24]]\n",
      "\n",
      " [[40 42 44]\n",
      "  [50 52 54]]]\n"
     ]
    }
   ],
   "source": [
    "a = np.arange(10, 70).reshape((4,3,5))\n",
    "print(a)\n",
    "\n",
    "print(a[0,1,2])  # equal to a[0][1][2]\n",
    "print(a[:,2])  # a list of the third rows of each inner 2d-array\n",
    "print(a[:,:,2])  # a list of the third column of each inner 2d-array\n",
    "print(a[::2,::2,::2])  # collect every second array of the three dimensions"
   ]
  },
  {
   "cell_type": "markdown",
   "metadata": {},
   "source": [
    "# Auxiliary Array Properties"
   ]
  },
  {
   "cell_type": "code",
   "execution_count": 182,
   "metadata": {
    "collapsed": false
   },
   "outputs": [
    {
     "name": "stdout",
     "output_type": "stream",
     "text": [
      "<class 'numpy.ndarray'>\n",
      "int8\n",
      "60\n",
      "(4, 3, 5)\n",
      "1\n",
      "3\n",
      "60\n"
     ]
    }
   ],
   "source": [
    "a = np.arange(10, 70, dtype=np.int8).reshape((4,3,5))\n",
    "\n",
    "print(type(a))\n",
    "print(a.dtype)\n",
    "print(a.size)\n",
    "print(a.shape)\n",
    "print(a.itemsize)\n",
    "print(a.ndim)\n",
    "print(a.nbytes)"
   ]
  },
  {
   "cell_type": "markdown",
   "metadata": {},
   "source": [
    "## Basic Operators"
   ]
  },
  {
   "cell_type": "code",
   "execution_count": 183,
   "metadata": {
    "collapsed": false
   },
   "outputs": [
    {
     "name": "stdout",
     "output_type": "stream",
     "text": [
      "[[ 1.  1.  1.]\n",
      " [ 2.  2.  2.]\n",
      " [ 3.  3.  3.]]\n",
      "[[0 1 2]\n",
      " [3 4 5]\n",
      " [6 7 8]]\n"
     ]
    }
   ],
   "source": [
    "a = np.ones((3,3))\n",
    "a[1] = 2\n",
    "a[2] = 3\n",
    "b = np.arange(9).reshape(3,3)\n",
    "\n",
    "print(a)\n",
    "print(b)"
   ]
  },
  {
   "cell_type": "code",
   "execution_count": 184,
   "metadata": {
    "collapsed": false
   },
   "outputs": [
    {
     "name": "stdout",
     "output_type": "stream",
     "text": [
      "[[1 1 1]\n",
      " [2 2 2]\n",
      " [3 3 3]]\n",
      "[[0 1 2]\n",
      " [3 4 5]\n",
      " [6 7 8]]\n",
      "[[ 1  2  3]\n",
      " [ 5  6  7]\n",
      " [ 9 10 11]]\n"
     ]
    }
   ],
   "source": [
    "a = np.ones((3,3), dtype=int)\n",
    "a[1] = 2\n",
    "a[2] = 3\n",
    "b = np.arange(9).reshape(3,3)\n",
    "\n",
    "print(a)\n",
    "print(b) \n",
    "\n",
    "print(a + b)"
   ]
  },
  {
   "cell_type": "code",
   "execution_count": 185,
   "metadata": {
    "collapsed": false
   },
   "outputs": [
    {
     "name": "stdout",
     "output_type": "stream",
     "text": [
      "[[ 1  0 -1]\n",
      " [-1 -2 -3]\n",
      " [-3 -4 -5]]\n"
     ]
    }
   ],
   "source": [
    "print(a - b)"
   ]
  },
  {
   "cell_type": "code",
   "execution_count": 186,
   "metadata": {
    "collapsed": false
   },
   "outputs": [
    {
     "name": "stdout",
     "output_type": "stream",
     "text": [
      "[[ 0  1  2]\n",
      " [ 6  8 10]\n",
      " [18 21 24]]\n"
     ]
    }
   ],
   "source": [
    "print(a * b)"
   ]
  },
  {
   "cell_type": "code",
   "execution_count": 189,
   "metadata": {
    "collapsed": false
   },
   "outputs": [
    {
     "name": "stdout",
     "output_type": "stream",
     "text": [
      "[[ 0.          1.          2.        ]\n",
      " [ 1.5         2.          2.5       ]\n",
      " [ 2.          2.33333333  2.66666667]]\n"
     ]
    }
   ],
   "source": [
    "print(b / a)"
   ]
  },
  {
   "cell_type": "code",
   "execution_count": 190,
   "metadata": {
    "collapsed": false
   },
   "outputs": [
    {
     "name": "stdout",
     "output_type": "stream",
     "text": [
      "[[1 1 1]\n",
      " [4 4 4]\n",
      " [9 9 9]]\n"
     ]
    }
   ],
   "source": [
    "print(a ** 2)"
   ]
  },
  {
   "cell_type": "code",
   "execution_count": 191,
   "metadata": {
    "collapsed": false
   },
   "outputs": [
    {
     "name": "stdout",
     "output_type": "stream",
     "text": [
      "[[False False  True]\n",
      " [ True  True  True]\n",
      " [ True  True  True]]\n"
     ]
    }
   ],
   "source": [
    "print(a < b)"
   ]
  },
  {
   "cell_type": "code",
   "execution_count": 192,
   "metadata": {
    "collapsed": false
   },
   "outputs": [
    {
     "name": "stdout",
     "output_type": "stream",
     "text": [
      "[[ True False False]\n",
      " [False False False]\n",
      " [False False False]]\n"
     ]
    }
   ],
   "source": [
    "print(a > b)"
   ]
  },
  {
   "cell_type": "code",
   "execution_count": 193,
   "metadata": {
    "collapsed": false
   },
   "outputs": [
    {
     "name": "stdout",
     "output_type": "stream",
     "text": [
      "[[ 9 12 15]\n",
      " [18 24 30]\n",
      " [27 36 45]]\n"
     ]
    }
   ],
   "source": [
    "print(a.dot(b))"
   ]
  },
  {
   "cell_type": "code",
   "execution_count": 195,
   "metadata": {
    "collapsed": false
   },
   "outputs": [
    {
     "name": "stdout",
     "output_type": "stream",
     "text": [
      "[[1 1 1]\n",
      " [2 2 2]\n",
      " [3 3 3]]\n",
      "18\n",
      "[ 1  2  3  5  7  9 12 15 18]\n",
      "1\n",
      "3\n"
     ]
    }
   ],
   "source": [
    "print(a)\n",
    "\n",
    "print(a.sum())\n",
    "print(a.cumsum())\n",
    "print(a.min())\n",
    "print(a.max())"
   ]
  },
  {
   "cell_type": "markdown",
   "metadata": {},
   "source": [
    "## Fancy Indexing\n",
    "\n"
   ]
  },
  {
   "cell_type": "code",
   "execution_count": null,
   "metadata": {
    "collapsed": false
   },
   "outputs": [],
   "source": [
    "a = np.arange(0, 100, 10)\n",
    "indices = np.array([1, 5, -1])\n",
    "b = a[indices]\n",
    "print(indices)\n",
    "print(a)\n",
    "print(b)"
   ]
  },
  {
   "cell_type": "markdown",
   "metadata": {},
   "source": [
    "## Boolean masking\n",
    "\n"
   ]
  },
  {
   "cell_type": "code",
   "execution_count": 198,
   "metadata": {
    "collapsed": false
   },
   "outputs": [
    {
     "data": {
      "image/png": "[encoded data removed]",
      "text/plain": [
       "<matplotlib.figure.Figure at 0x7f37770fe668>"
      ]
     },
     "metadata": {},
     "output_type": "display_data"
    }
   ],
   "source": [
    "import matplotlib.pyplot as plt\n",
    " \n",
    "xs = np.linspace(0, 2 * np.pi, 50)\n",
    "ys = np.sin(xs)\n",
    "plt.plot(xs, ys)\n",
    "mask = ys >= 0\n",
    "plt.plot(xs[mask], ys[mask], 'bo')\n",
    "mask = (ys <= 0) & (xs >= np.pi)\n",
    "plt.plot(xs[mask], ys[mask], 'go')\n",
    "plt.show()"
   ]
  },
  {
   "cell_type": "markdown",
   "metadata": {},
   "source": [
    "## Incomplete Indexing\n",
    "\n",
    "As you saw above, you can omit index numbers, which then default to index 0 or index for the last element of the array."
   ]
  },
  {
   "cell_type": "code",
   "execution_count": null,
   "metadata": {
    "collapsed": false
   },
   "outputs": [],
   "source": [
    "a = np.arange(0, 100, 10)\n",
    "b = a[:5]\n",
    "c = a[a >= 50]\n",
    "print(b)\n",
    "print(c)"
   ]
  },
  {
   "cell_type": "markdown",
   "metadata": {},
   "source": [
    "## Where\n",
    "\n",
    "the `where()` function is another useful way of retrieving elements of an array conditionally. Simply pass it a condition and it will return a tuple of lists of elements where that condition is true."
   ]
  },
  {
   "cell_type": "code",
   "execution_count": null,
   "metadata": {
    "collapsed": false
   },
   "outputs": [],
   "source": [
    "a = np.arange(0, 100, 10)\n",
    "b = np.where(a < 50) \n",
    "c = np.where(a >= 50)[0]\n",
    "print(b)\n",
    "print(c)"
   ]
  },
  {
   "cell_type": "code",
   "execution_count": null,
   "metadata": {
    "collapsed": false
   },
   "outputs": [],
   "source": [
    "my_data[my_data[:][0] = 2105]"
   ]
  },
  {
   "cell_type": "markdown",
   "metadata": {},
   "source": [
    "# Why do we care about NumPy?\n",
    "\n",
    "Because we want to get things done. As you remember from the last session *14-Intro to Plotting.ipynb*, we had to write quite a bit of code to compute the histograms for the age distribution within Copenhagen citizens per year.\n",
    "\n",
    "By representing our input data as a matrix, i.e., a two-dimensional array, and using boolean indexing, we can generate for example the histograms way more concisely and with way fewer lines of code.\n",
    "\n",
    "In the following we us Pandas, to import the CSV file with the statistics about Copenhagen citizens and we convert the read data into a numpy matrix. We will have a closer look on the  Pandas library in the next session."
   ]
  },
  {
   "cell_type": "code",
   "execution_count": 199,
   "metadata": {
    "collapsed": false
   },
   "outputs": [
    {
     "data": {
      "text/html": [
       "<div>\n",
       "<table border=\"1\" class=\"dataframe\">\n",
       "  <thead>\n",
       "    <tr style=\"text-align: right;\">\n",
       "      <th></th>\n",
       "      <th>AAR</th>\n",
       "      <th>BYDEL</th>\n",
       "      <th>ALDER</th>\n",
       "      <th>STATKODE</th>\n",
       "      <th>PERSONER</th>\n",
       "    </tr>\n",
       "  </thead>\n",
       "  <tbody>\n",
       "    <tr>\n",
       "      <th>0</th>\n",
       "      <td>2015</td>\n",
       "      <td>1</td>\n",
       "      <td>0</td>\n",
       "      <td>5100</td>\n",
       "      <td>614</td>\n",
       "    </tr>\n",
       "    <tr>\n",
       "      <th>1</th>\n",
       "      <td>2015</td>\n",
       "      <td>1</td>\n",
       "      <td>0</td>\n",
       "      <td>5104</td>\n",
       "      <td>2</td>\n",
       "    </tr>\n",
       "    <tr>\n",
       "      <th>2</th>\n",
       "      <td>2015</td>\n",
       "      <td>1</td>\n",
       "      <td>0</td>\n",
       "      <td>5106</td>\n",
       "      <td>1</td>\n",
       "    </tr>\n",
       "    <tr>\n",
       "      <th>3</th>\n",
       "      <td>2015</td>\n",
       "      <td>1</td>\n",
       "      <td>0</td>\n",
       "      <td>5110</td>\n",
       "      <td>1</td>\n",
       "    </tr>\n",
       "    <tr>\n",
       "      <th>4</th>\n",
       "      <td>2015</td>\n",
       "      <td>1</td>\n",
       "      <td>0</td>\n",
       "      <td>5120</td>\n",
       "      <td>4</td>\n",
       "    </tr>\n",
       "    <tr>\n",
       "      <th>5</th>\n",
       "      <td>2015</td>\n",
       "      <td>1</td>\n",
       "      <td>0</td>\n",
       "      <td>5126</td>\n",
       "      <td>1</td>\n",
       "    </tr>\n",
       "    <tr>\n",
       "      <th>6</th>\n",
       "      <td>2015</td>\n",
       "      <td>1</td>\n",
       "      <td>0</td>\n",
       "      <td>5130</td>\n",
       "      <td>5</td>\n",
       "    </tr>\n",
       "    <tr>\n",
       "      <th>7</th>\n",
       "      <td>2015</td>\n",
       "      <td>1</td>\n",
       "      <td>0</td>\n",
       "      <td>5140</td>\n",
       "      <td>3</td>\n",
       "    </tr>\n",
       "    <tr>\n",
       "      <th>8</th>\n",
       "      <td>2015</td>\n",
       "      <td>1</td>\n",
       "      <td>0</td>\n",
       "      <td>5150</td>\n",
       "      <td>5</td>\n",
       "    </tr>\n",
       "    <tr>\n",
       "      <th>9</th>\n",
       "      <td>2015</td>\n",
       "      <td>1</td>\n",
       "      <td>0</td>\n",
       "      <td>5154</td>\n",
       "      <td>1</td>\n",
       "    </tr>\n",
       "    <tr>\n",
       "      <th>10</th>\n",
       "      <td>2015</td>\n",
       "      <td>1</td>\n",
       "      <td>0</td>\n",
       "      <td>5164</td>\n",
       "      <td>3</td>\n",
       "    </tr>\n",
       "    <tr>\n",
       "      <th>11</th>\n",
       "      <td>2015</td>\n",
       "      <td>1</td>\n",
       "      <td>0</td>\n",
       "      <td>5170</td>\n",
       "      <td>3</td>\n",
       "    </tr>\n",
       "    <tr>\n",
       "      <th>12</th>\n",
       "      <td>2015</td>\n",
       "      <td>1</td>\n",
       "      <td>0</td>\n",
       "      <td>5180</td>\n",
       "      <td>3</td>\n",
       "    </tr>\n",
       "    <tr>\n",
       "      <th>13</th>\n",
       "      <td>2015</td>\n",
       "      <td>1</td>\n",
       "      <td>0</td>\n",
       "      <td>5228</td>\n",
       "      <td>1</td>\n",
       "    </tr>\n",
       "    <tr>\n",
       "      <th>14</th>\n",
       "      <td>2015</td>\n",
       "      <td>1</td>\n",
       "      <td>0</td>\n",
       "      <td>5306</td>\n",
       "      <td>2</td>\n",
       "    </tr>\n",
       "    <tr>\n",
       "      <th>15</th>\n",
       "      <td>2015</td>\n",
       "      <td>1</td>\n",
       "      <td>0</td>\n",
       "      <td>5390</td>\n",
       "      <td>1</td>\n",
       "    </tr>\n",
       "    <tr>\n",
       "      <th>16</th>\n",
       "      <td>2015</td>\n",
       "      <td>1</td>\n",
       "      <td>0</td>\n",
       "      <td>5448</td>\n",
       "      <td>1</td>\n",
       "    </tr>\n",
       "    <tr>\n",
       "      <th>17</th>\n",
       "      <td>2015</td>\n",
       "      <td>1</td>\n",
       "      <td>0</td>\n",
       "      <td>5464</td>\n",
       "      <td>1</td>\n",
       "    </tr>\n",
       "    <tr>\n",
       "      <th>18</th>\n",
       "      <td>2015</td>\n",
       "      <td>1</td>\n",
       "      <td>0</td>\n",
       "      <td>5472</td>\n",
       "      <td>1</td>\n",
       "    </tr>\n",
       "    <tr>\n",
       "      <th>19</th>\n",
       "      <td>2015</td>\n",
       "      <td>1</td>\n",
       "      <td>0</td>\n",
       "      <td>5502</td>\n",
       "      <td>1</td>\n",
       "    </tr>\n",
       "    <tr>\n",
       "      <th>20</th>\n",
       "      <td>2015</td>\n",
       "      <td>1</td>\n",
       "      <td>0</td>\n",
       "      <td>5704</td>\n",
       "      <td>1</td>\n",
       "    </tr>\n",
       "    <tr>\n",
       "      <th>21</th>\n",
       "      <td>2015</td>\n",
       "      <td>1</td>\n",
       "      <td>0</td>\n",
       "      <td>5752</td>\n",
       "      <td>1</td>\n",
       "    </tr>\n",
       "    <tr>\n",
       "      <th>22</th>\n",
       "      <td>2015</td>\n",
       "      <td>1</td>\n",
       "      <td>1</td>\n",
       "      <td>5100</td>\n",
       "      <td>540</td>\n",
       "    </tr>\n",
       "    <tr>\n",
       "      <th>23</th>\n",
       "      <td>2015</td>\n",
       "      <td>1</td>\n",
       "      <td>1</td>\n",
       "      <td>5104</td>\n",
       "      <td>3</td>\n",
       "    </tr>\n",
       "    <tr>\n",
       "      <th>24</th>\n",
       "      <td>2015</td>\n",
       "      <td>1</td>\n",
       "      <td>1</td>\n",
       "      <td>5106</td>\n",
       "      <td>2</td>\n",
       "    </tr>\n",
       "    <tr>\n",
       "      <th>25</th>\n",
       "      <td>2015</td>\n",
       "      <td>1</td>\n",
       "      <td>1</td>\n",
       "      <td>5110</td>\n",
       "      <td>3</td>\n",
       "    </tr>\n",
       "    <tr>\n",
       "      <th>26</th>\n",
       "      <td>2015</td>\n",
       "      <td>1</td>\n",
       "      <td>1</td>\n",
       "      <td>5120</td>\n",
       "      <td>4</td>\n",
       "    </tr>\n",
       "    <tr>\n",
       "      <th>27</th>\n",
       "      <td>2015</td>\n",
       "      <td>1</td>\n",
       "      <td>1</td>\n",
       "      <td>5130</td>\n",
       "      <td>3</td>\n",
       "    </tr>\n",
       "    <tr>\n",
       "      <th>28</th>\n",
       "      <td>2015</td>\n",
       "      <td>1</td>\n",
       "      <td>1</td>\n",
       "      <td>5140</td>\n",
       "      <td>1</td>\n",
       "    </tr>\n",
       "    <tr>\n",
       "      <th>29</th>\n",
       "      <td>2015</td>\n",
       "      <td>1</td>\n",
       "      <td>1</td>\n",
       "      <td>5142</td>\n",
       "      <td>1</td>\n",
       "    </tr>\n",
       "    <tr>\n",
       "      <th>...</th>\n",
       "      <td>...</td>\n",
       "      <td>...</td>\n",
       "      <td>...</td>\n",
       "      <td>...</td>\n",
       "      <td>...</td>\n",
       "    </tr>\n",
       "    <tr>\n",
       "      <th>542487</th>\n",
       "      <td>1992</td>\n",
       "      <td>99</td>\n",
       "      <td>65</td>\n",
       "      <td>5314</td>\n",
       "      <td>1</td>\n",
       "    </tr>\n",
       "    <tr>\n",
       "      <th>542488</th>\n",
       "      <td>1992</td>\n",
       "      <td>99</td>\n",
       "      <td>65</td>\n",
       "      <td>5432</td>\n",
       "      <td>1</td>\n",
       "    </tr>\n",
       "    <tr>\n",
       "      <th>542489</th>\n",
       "      <td>1992</td>\n",
       "      <td>99</td>\n",
       "      <td>66</td>\n",
       "      <td>5100</td>\n",
       "      <td>6</td>\n",
       "    </tr>\n",
       "    <tr>\n",
       "      <th>542490</th>\n",
       "      <td>1992</td>\n",
       "      <td>99</td>\n",
       "      <td>67</td>\n",
       "      <td>5100</td>\n",
       "      <td>8</td>\n",
       "    </tr>\n",
       "    <tr>\n",
       "      <th>542491</th>\n",
       "      <td>1992</td>\n",
       "      <td>99</td>\n",
       "      <td>67</td>\n",
       "      <td>5438</td>\n",
       "      <td>2</td>\n",
       "    </tr>\n",
       "    <tr>\n",
       "      <th>542492</th>\n",
       "      <td>1992</td>\n",
       "      <td>99</td>\n",
       "      <td>68</td>\n",
       "      <td>5100</td>\n",
       "      <td>4</td>\n",
       "    </tr>\n",
       "    <tr>\n",
       "      <th>542493</th>\n",
       "      <td>1992</td>\n",
       "      <td>99</td>\n",
       "      <td>68</td>\n",
       "      <td>5438</td>\n",
       "      <td>1</td>\n",
       "    </tr>\n",
       "    <tr>\n",
       "      <th>542494</th>\n",
       "      <td>1992</td>\n",
       "      <td>99</td>\n",
       "      <td>69</td>\n",
       "      <td>5100</td>\n",
       "      <td>4</td>\n",
       "    </tr>\n",
       "    <tr>\n",
       "      <th>542495</th>\n",
       "      <td>1992</td>\n",
       "      <td>99</td>\n",
       "      <td>69</td>\n",
       "      <td>5172</td>\n",
       "      <td>1</td>\n",
       "    </tr>\n",
       "    <tr>\n",
       "      <th>542496</th>\n",
       "      <td>1992</td>\n",
       "      <td>99</td>\n",
       "      <td>69</td>\n",
       "      <td>5438</td>\n",
       "      <td>1</td>\n",
       "    </tr>\n",
       "    <tr>\n",
       "      <th>542497</th>\n",
       "      <td>1992</td>\n",
       "      <td>99</td>\n",
       "      <td>70</td>\n",
       "      <td>5100</td>\n",
       "      <td>6</td>\n",
       "    </tr>\n",
       "    <tr>\n",
       "      <th>542498</th>\n",
       "      <td>1992</td>\n",
       "      <td>99</td>\n",
       "      <td>70</td>\n",
       "      <td>5390</td>\n",
       "      <td>1</td>\n",
       "    </tr>\n",
       "    <tr>\n",
       "      <th>542499</th>\n",
       "      <td>1992</td>\n",
       "      <td>99</td>\n",
       "      <td>71</td>\n",
       "      <td>5100</td>\n",
       "      <td>6</td>\n",
       "    </tr>\n",
       "    <tr>\n",
       "      <th>542500</th>\n",
       "      <td>1992</td>\n",
       "      <td>99</td>\n",
       "      <td>72</td>\n",
       "      <td>5100</td>\n",
       "      <td>1</td>\n",
       "    </tr>\n",
       "    <tr>\n",
       "      <th>542501</th>\n",
       "      <td>1992</td>\n",
       "      <td>99</td>\n",
       "      <td>72</td>\n",
       "      <td>5103</td>\n",
       "      <td>1</td>\n",
       "    </tr>\n",
       "    <tr>\n",
       "      <th>542502</th>\n",
       "      <td>1992</td>\n",
       "      <td>99</td>\n",
       "      <td>73</td>\n",
       "      <td>5100</td>\n",
       "      <td>4</td>\n",
       "    </tr>\n",
       "    <tr>\n",
       "      <th>542503</th>\n",
       "      <td>1992</td>\n",
       "      <td>99</td>\n",
       "      <td>74</td>\n",
       "      <td>5100</td>\n",
       "      <td>3</td>\n",
       "    </tr>\n",
       "    <tr>\n",
       "      <th>542504</th>\n",
       "      <td>1992</td>\n",
       "      <td>99</td>\n",
       "      <td>74</td>\n",
       "      <td>5272</td>\n",
       "      <td>1</td>\n",
       "    </tr>\n",
       "    <tr>\n",
       "      <th>542505</th>\n",
       "      <td>1992</td>\n",
       "      <td>99</td>\n",
       "      <td>75</td>\n",
       "      <td>5100</td>\n",
       "      <td>6</td>\n",
       "    </tr>\n",
       "    <tr>\n",
       "      <th>542506</th>\n",
       "      <td>1992</td>\n",
       "      <td>99</td>\n",
       "      <td>76</td>\n",
       "      <td>5100</td>\n",
       "      <td>3</td>\n",
       "    </tr>\n",
       "    <tr>\n",
       "      <th>542507</th>\n",
       "      <td>1992</td>\n",
       "      <td>99</td>\n",
       "      <td>76</td>\n",
       "      <td>5272</td>\n",
       "      <td>1</td>\n",
       "    </tr>\n",
       "    <tr>\n",
       "      <th>542508</th>\n",
       "      <td>1992</td>\n",
       "      <td>99</td>\n",
       "      <td>77</td>\n",
       "      <td>5100</td>\n",
       "      <td>1</td>\n",
       "    </tr>\n",
       "    <tr>\n",
       "      <th>542509</th>\n",
       "      <td>1992</td>\n",
       "      <td>99</td>\n",
       "      <td>78</td>\n",
       "      <td>5100</td>\n",
       "      <td>5</td>\n",
       "    </tr>\n",
       "    <tr>\n",
       "      <th>542510</th>\n",
       "      <td>1992</td>\n",
       "      <td>99</td>\n",
       "      <td>79</td>\n",
       "      <td>5100</td>\n",
       "      <td>2</td>\n",
       "    </tr>\n",
       "    <tr>\n",
       "      <th>542511</th>\n",
       "      <td>1992</td>\n",
       "      <td>99</td>\n",
       "      <td>80</td>\n",
       "      <td>5100</td>\n",
       "      <td>1</td>\n",
       "    </tr>\n",
       "    <tr>\n",
       "      <th>542512</th>\n",
       "      <td>1992</td>\n",
       "      <td>99</td>\n",
       "      <td>81</td>\n",
       "      <td>5100</td>\n",
       "      <td>1</td>\n",
       "    </tr>\n",
       "    <tr>\n",
       "      <th>542513</th>\n",
       "      <td>1992</td>\n",
       "      <td>99</td>\n",
       "      <td>87</td>\n",
       "      <td>5100</td>\n",
       "      <td>2</td>\n",
       "    </tr>\n",
       "    <tr>\n",
       "      <th>542514</th>\n",
       "      <td>1992</td>\n",
       "      <td>99</td>\n",
       "      <td>89</td>\n",
       "      <td>5100</td>\n",
       "      <td>1</td>\n",
       "    </tr>\n",
       "    <tr>\n",
       "      <th>542515</th>\n",
       "      <td>1992</td>\n",
       "      <td>99</td>\n",
       "      <td>90</td>\n",
       "      <td>5180</td>\n",
       "      <td>1</td>\n",
       "    </tr>\n",
       "    <tr>\n",
       "      <th>542516</th>\n",
       "      <td>1992</td>\n",
       "      <td>99</td>\n",
       "      <td>93</td>\n",
       "      <td>5100</td>\n",
       "      <td>1</td>\n",
       "    </tr>\n",
       "  </tbody>\n",
       "</table>\n",
       "<p>542517 rows × 5 columns</p>\n",
       "</div>"
      ],
      "text/plain": [
       "         AAR  BYDEL  ALDER  STATKODE  PERSONER\n",
       "0       2015      1      0      5100       614\n",
       "1       2015      1      0      5104         2\n",
       "2       2015      1      0      5106         1\n",
       "3       2015      1      0      5110         1\n",
       "4       2015      1      0      5120         4\n",
       "5       2015      1      0      5126         1\n",
       "6       2015      1      0      5130         5\n",
       "7       2015      1      0      5140         3\n",
       "8       2015      1      0      5150         5\n",
       "9       2015      1      0      5154         1\n",
       "10      2015      1      0      5164         3\n",
       "11      2015      1      0      5170         3\n",
       "12      2015      1      0      5180         3\n",
       "13      2015      1      0      5228         1\n",
       "14      2015      1      0      5306         2\n",
       "15      2015      1      0      5390         1\n",
       "16      2015      1      0      5448         1\n",
       "17      2015      1      0      5464         1\n",
       "18      2015      1      0      5472         1\n",
       "19      2015      1      0      5502         1\n",
       "20      2015      1      0      5704         1\n",
       "21      2015      1      0      5752         1\n",
       "22      2015      1      1      5100       540\n",
       "23      2015      1      1      5104         3\n",
       "24      2015      1      1      5106         2\n",
       "25      2015      1      1      5110         3\n",
       "26      2015      1      1      5120         4\n",
       "27      2015      1      1      5130         3\n",
       "28      2015      1      1      5140         1\n",
       "29      2015      1      1      5142         1\n",
       "...      ...    ...    ...       ...       ...\n",
       "542487  1992     99     65      5314         1\n",
       "542488  1992     99     65      5432         1\n",
       "542489  1992     99     66      5100         6\n",
       "542490  1992     99     67      5100         8\n",
       "542491  1992     99     67      5438         2\n",
       "542492  1992     99     68      5100         4\n",
       "542493  1992     99     68      5438         1\n",
       "542494  1992     99     69      5100         4\n",
       "542495  1992     99     69      5172         1\n",
       "542496  1992     99     69      5438         1\n",
       "542497  1992     99     70      5100         6\n",
       "542498  1992     99     70      5390         1\n",
       "542499  1992     99     71      5100         6\n",
       "542500  1992     99     72      5100         1\n",
       "542501  1992     99     72      5103         1\n",
       "542502  1992     99     73      5100         4\n",
       "542503  1992     99     74      5100         3\n",
       "542504  1992     99     74      5272         1\n",
       "542505  1992     99     75      5100         6\n",
       "542506  1992     99     76      5100         3\n",
       "542507  1992     99     76      5272         1\n",
       "542508  1992     99     77      5100         1\n",
       "542509  1992     99     78      5100         5\n",
       "542510  1992     99     79      5100         2\n",
       "542511  1992     99     80      5100         1\n",
       "542512  1992     99     81      5100         1\n",
       "542513  1992     99     87      5100         2\n",
       "542514  1992     99     89      5100         1\n",
       "542515  1992     99     90      5180         1\n",
       "542516  1992     99     93      5100         1\n",
       "\n",
       "[542517 rows x 5 columns]"
      ]
     },
     "execution_count": 199,
     "metadata": {},
     "output_type": "execute_result"
    }
   ],
   "source": [
    "import pandas as pd\n",
    "\n",
    "filename = './befkbhalderstatkode.csv'\n",
    "\n",
    "bef_stats_df = pd.read_csv(filename)\n",
    "bef_stats_df"
   ]
  },
  {
   "cell_type": "code",
   "execution_count": 200,
   "metadata": {
    "collapsed": true
   },
   "outputs": [],
   "source": [
    "dd = bef_stats_df.as_matrix()"
   ]
  },
  {
   "cell_type": "markdown",
   "metadata": {},
   "source": [
    "### Amount of 18 years old Danes in CPH?\n",
    "\n",
    "For example, how can we quickly compute the amount of all Danes (`STATKODE == 5100`) with age 18 in all neighbourhoods for the year 2015?\n",
    "\n",
    "We just collect that data by expressing it as a conjunction of constraints and subsequently sum it up.\n"
   ]
  },
  {
   "cell_type": "code",
   "execution_count": 202,
   "metadata": {
    "collapsed": false
   },
   "outputs": [
    {
     "name": "stdout",
     "output_type": "stream",
     "text": [
      "[[2015    1   18 5100  378]\n",
      " [2015    2   18 5100  577]\n",
      " [2015    3   18 5100  513]\n",
      " [2015    4   18 5100  309]\n",
      " [2015    5   18 5100  428]\n",
      " [2015    6   18 5100  349]\n",
      " [2015    7   18 5100  406]\n",
      " [2015    8   18 5100  339]\n",
      " [2015    9   18 5100  359]\n",
      " [2015   10   18 5100  424]\n",
      " [2015   99   18 5100   20]]\n"
     ]
    },
    {
     "data": {
      "text/plain": [
       "4102"
      ]
     },
     "execution_count": 202,
     "metadata": {},
     "output_type": "execute_result"
    }
   ],
   "source": [
    "mask = (dd[:,0] == 2015) & (dd[:,2] == 18) & (dd[:,3] == 5100)\n",
    "print(dd[mask])\n",
    "np.sum(dd[mask][:,4])"
   ]
  },
  {
   "cell_type": "markdown",
   "metadata": {},
   "source": [
    "### Distribution of French and Germans in CPH?\n",
    "\n",
    "\n",
    "Similarly, in which neighbourhood lifed the most Frenchmen and Germans respectively in 2015?\n",
    "\n",
    "The following dictionary of neighbourhood codes is created from the explanatory text on the municipalities homepage."
   ]
  },
  {
   "cell_type": "code",
   "execution_count": null,
   "metadata": {
    "collapsed": true
   },
   "outputs": [],
   "source": [
    "neighb = {1: 'Indre By', 2: 'Østerbro', 3: 'Nørrebro', 4: 'Vesterbro/Kgs. Enghave', \n",
    "          5: 'Valby', 6: 'Vanløse', 7: 'Brønshøj-Husum', 8: 'Bispebjerg', 9: 'Amager Øst', \n",
    "          10: 'Amager Vest', 99: 'Udenfor'}"
   ]
  },
  {
   "cell_type": "code",
   "execution_count": 204,
   "metadata": {
    "collapsed": false
   },
   "outputs": [
    {
     "name": "stdout",
     "output_type": "stream",
     "text": [
      "The majority of 346 Frenchmen are living in Indre By\n",
      "The majority of 653 Germans are living in Nørrebro\n"
     ]
    }
   ],
   "source": [
    "french_mask = (dd[:,0] == 2015) & (dd[:,3] == 5130)\n",
    "german_mask = (dd[:,0] == 2015) & (dd[:,3] == 5180)\n",
    "\n",
    "french = np.array([np.sum(dd[french_mask & (dd[:,1] == n)][:,4]) \n",
    "                   for n in neighb.keys()])\n",
    "germans = np.array([np.sum(dd[german_mask & (dd[:,1] == n)][:,4]) \n",
    "                    for n in neighb.keys()])\n",
    "\n",
    "index_max_fr = np.argmax(french)\n",
    "index_max_de = np.argmax(germans)\n",
    "\n",
    "msg = 'The majority of {} {} are living in {}'\n",
    "print(msg.format(french.max(), 'Frenchmen', neighb[list(neighb.keys())[index_max_fr]]))\n",
    "print(msg.format(germans.max(), 'Germans', neighb[list(neighb.keys())[index_max_de]]))"
   ]
  },
  {
   "cell_type": "markdown",
   "metadata": {},
   "source": [
    "### From which country come the most imigrants in 2015?\n",
    "\n",
    "Popular belief says that most imigrants come somewhere from the middle-east. But is it true?\n",
    "\n",
    "To answer this question, convert the cuntry code data from Danmarks Statistik (http://www.dst.dk/da/Statistik/dokumentation/Times/forebyggelsesregistret/statkode.aspx) into a Python dictionary."
   ]
  },
  {
   "cell_type": "code",
   "execution_count": 205,
   "metadata": {
    "collapsed": true
   },
   "outputs": [],
   "source": [
    "country_codes = {0: 'Uoplyst (1)', 5001: 'Uoplyst (2)', 5100: 'Danmark', 5101: 'Grønland', \n",
    "                 5102: 'Udlandet uoplyst', 5103: 'Statsløs', 5104: 'Finland', \n",
    "                 5105: 'Island, ligeret dansk', 5106: 'Island', 5107: 'Liechtenstein', \n",
    "                 5108: 'Luxembourg', 5109: 'Monaco', 5110: 'Norge', 5114: 'Europa uoplyst', \n",
    "                 5115: 'Kongelig', 5120: 'Sverige', 5122: 'Albanien', 5124: 'Andorra', \n",
    "                 5126: 'Belgien', 5128: 'Bulgarien', 5129: 'Tjekkoslovakiet', \n",
    "                 5130: 'Frankrig', 5134: 'Grækenland', 5140: 'Nederlandene', \n",
    "                 5142: 'Irland', 5150: 'Italien', 5151: 'Serbien og Montenegro', \n",
    "                 5152: 'Jugoslavien', 5153: 'Malta', 5154: 'Polen', 5156: 'Portugal', \n",
    "                 5158: 'Rumænien', 5159: 'San Marino', 5160: 'Schweiz', \n",
    "                 5162: 'Sovjetunionen', 5164: 'Spanien', 5170: 'Storbritannien', \n",
    "                 5172: 'Tyrkiet', 5174: 'Ungarn', 5176: 'Vatikanstaten', 5180: 'Tyskland', \n",
    "                 5182: 'Østrig', 5199: 'Europa uoplyst', 5202: 'Algeriet', 5204: 'Angola', \n",
    "                 5207: 'Botswana', 5213: 'Burundi', 5214: 'Etiopien', 5215: 'Comorerne', \n",
    "                 5216: 'Eritrea', 5222: 'Gambia', 5228: 'Ghana', 5230: 'Ækvatorialguinea', \n",
    "                 5231: 'Guinea-Bissau', 5232: 'Guinea', 5233: 'Kap Verde', 5234: 'Kenya', \n",
    "                 5235: 'Lesotho', 5236: 'Liberia', 5238: 'Libyen', 5240: 'Mozambique', \n",
    "                 5242: 'Madagaskar', 5243: 'Mali', 5244: 'Marokko', 5245: 'Mauritius', \n",
    "                 5246: 'Nigeria', 5247: 'Namibia', 5248: 'Marshalløerne', \n",
    "                 5255: 'Sierra Leone', 5258: 'Sudan', 5259: 'Swaziland', 5260: 'Sydsudan', \n",
    "                 5262: 'Sydafrika', 5266: 'Tanzania', 5268: 'Tunesien', 5269: 'Uganda', \n",
    "                 5272: 'Egypten', 5273: 'Tuvalu', 5274: 'Kiribati', 5275: 'Vanuatu', \n",
    "                 5276: 'Centralafrikanske Republik', 5277: 'Cameroun', \n",
    "                 5278: 'Congo, Demokratiske Republik', 5279: 'Congo, Republikken', \n",
    "                 5281: 'Benin', 5282: 'Elfenbenskysten', 5283: 'Gabon', 5284: 'Mauretanien', \n",
    "                 5285: 'Niger', 5287: 'Rwanda', 5288: 'Senegal', 5289: 'Somalia', \n",
    "                 5292: 'Tchad', 5293: 'Togo', 5294: 'Burkina Faso', 5295: 'Zimbabwe', \n",
    "                 5296: 'Zambia', 5297: 'Malawi', 5298: 'Seychellerne', \n",
    "                 5299: 'Afrika uoplyst', 5302: 'Argentina', 5303: 'Bahamas', \n",
    "                 5304: 'Bolivia', 5305: 'Barbados', 5306: 'Brasilien', 5308: 'Guyana', \n",
    "                 5309: 'Antigua og Barbuda', 5310: 'Nauru', \n",
    "                 5311: 'Skt. Vincent og Grenadinerne', 5314: 'Canada', 5316: 'Chile', \n",
    "                 5318: 'Colombia', 5319: 'Syd- og Mellemamerika uoplyst', \n",
    "                 5322: 'Costa Rica', 5324: 'Cuba', 5326: 'Dominikanske Republik', \n",
    "                 5328: 'Ecuador', 5338: 'Guatemala', 5339: 'Grenada', 5342: 'Haiti', \n",
    "                 5344: 'Surinam', 5345: 'Dominica', 5347: 'Skt. Lucia', 5348: 'Honduras', \n",
    "                 5352: 'Jamaica', 5354: 'Mexico', 5356: 'Nicaragua', 5358: 'Panama', \n",
    "                 5364: 'Paraguay', 5366: 'Peru', 5372: 'El Salvador', \n",
    "                 5374: 'Trinidad og Tobago', 5376: 'Uruguay', 5390: 'USA', \n",
    "                 5392: 'Venezuela', 5395: 'Vestindiske Øer', 5397: 'Nordamerika uoplyst', \n",
    "                 5398: 'Syd- og Mellemamerika uoplyst', 5402: 'Yemen', \n",
    "                 5403: 'Forenede Arabiske Emirater', 5404: 'Afghanistan', 5406: 'Bahrain', \n",
    "                 5408: 'Bhutan', 5410: 'Bangladesh', 5412: 'Brunei', 5414: 'Myanmar', \n",
    "                 5416: 'Cambodja', 5418: 'Sri Lanka', 5422: 'Cypern', 5424: 'Taiwan', \n",
    "                 5432: 'Indien', 5434: 'Indonesien', 5435: 'Østtimor', 5436: 'Irak', \n",
    "                 5438: 'Iran', 5442: 'Israel', 5444: 'Japan', 5446: 'Jordan', 5448: 'Kina', \n",
    "                 5452: 'Kuwait', 5454: 'Laos', 5456: 'Libanon', 5457: 'Maldiverne', \n",
    "                 5458: 'Malaysia', 5459: 'Mongoliet', 5462: 'Oman', 5464: 'Nepal', \n",
    "                 5466: 'Nordkorea', 5468: 'Vietnam (1)', 5471: 'Asien uoplyst', \n",
    "                 5472: 'Pakistan', 5474: 'Filippinerne', 5478: 'Saudi-Arabien', \n",
    "                 5482: 'Singapore', 5484: 'Sydkorea', 5486: 'Syrien', \n",
    "                 5487: 'Mellemøsten uoplyst', 5488: 'Vietnam (2)', 5492: 'Thailand', \n",
    "                 5496: 'Qatar', 5499: 'Asien uoplyst', 5502: 'Australien', 5505: 'Tonga', \n",
    "                 5508: 'Fiji', 5514: 'New Zealand', 5522: 'Samoa', 5525: 'Djibouti', \n",
    "                 5526: 'Belize', 5534: 'Papua Ny Guinea', 5599: 'Øer i Stillehavet', \n",
    "                 5607: 'Estland', 5609: 'Letland', 5611: 'Litauen', \n",
    "                 5621: 'Sao Tome og Principe', 5623: 'Salomonøerne', \n",
    "                 5625: 'Skt. Kitts og Nevis', 5700: 'Rusland', 5704: 'Ukraine', \n",
    "                 5706: 'Hviderusland', 5708: 'Armenien', 5710: 'Aserbajdsjan', \n",
    "                 5712: 'Moldova', 5714: 'Usbekistan', 5716: 'Kasakhstan', \n",
    "                 5718: 'Turkmenistan', 5720: 'Kirgisistan', 5722: 'Tadsjikistan', \n",
    "                 5724: 'Georgien', 5750: 'Kroatien', 5752: 'Slovenien', \n",
    "                 5754: 'Bosnien-Hercegovina', 5756: 'Makedonien', 5757: 'Serbien', \n",
    "                 5758: 'Jugoslavien, Forbundsrepublikken', 5759: 'Montenegro', \n",
    "                 5761: 'Kosovo', 5776: 'Tjekkiet', 5778: 'Slovakiet', 5779: 'Cookøerne', \n",
    "                 5800: 'Land ukendt (2)', 5901: 'Færøerne uoplyst', 5902: 'Færøerne', \n",
    "                 5999: 'Land ukendt (1)'}"
   ]
  },
  {
   "cell_type": "code",
   "execution_count": null,
   "metadata": {
    "collapsed": false
   },
   "outputs": [],
   "source": [
    "\n"
   ]
  },
  {
   "cell_type": "code",
   "execution_count": 213,
   "metadata": {
    "collapsed": false
   },
   "outputs": [
    {
     "name": "stdout",
     "output_type": "stream",
     "text": [
      "4230 inhabitants come from Irland\n"
     ]
    }
   ],
   "source": [
    "# create a set of conuntry codes with people living in Copenhagen\n",
    "c_keys = np.unique(dd[:,3])\n",
    "# we are interested in non-danes only\n",
    "c_keys = c_keys[c_keys != 5100]\n",
    "# and again we only consider 2015\n",
    "mask = (dd[:,0] == 2012)\n",
    "\n",
    "no_per_c = np.array([np.sum(dd[mask & (dd[:,3] == c_code)][:,4]) \n",
    "                     for c_code in c_keys])\n",
    "\n",
    "msg = '{} inhabitants come from {}'\n",
    "c_name = country_codes[list(country_codes.keys())[np.argmax(no_per_c)]]\n",
    "print(msg.format(no_per_c.max(), c_name))\n",
    "\n",
    "# print(list(zip(c_keys, no_per_c)))"
   ]
  },
  {
   "cell_type": "code",
   "execution_count": 207,
   "metadata": {
    "collapsed": false
   },
   "outputs": [
    {
     "data": {
      "image/jpeg": "[encoded data removed]",
      "text/html": [
       "\n",
       "        <iframe\n",
       "            width=\"400\"\n",
       "            height=\"300\"\n",
       "            src=\"https://www.youtube.com/embed/YsSu4qdHgX0\"\n",
       "            frameborder=\"0\"\n",
       "            allowfullscreen\n",
       "        ></iframe>\n",
       "        "
      ],
      "text/plain": [
       "<IPython.lib.display.YouTubeVideo at 0x7f3776fe2e80>"
      ]
     },
     "execution_count": 207,
     "metadata": {},
     "output_type": "execute_result"
    }
   ],
   "source": [
    "from IPython.display import YouTubeVideo\n",
    "YouTubeVideo('YsSu4qdHgX0')\n",
    "# If you feel like more music while coding uncomment the following and run the cell again:\n",
    "# YouTubeVideo('Ruq19LS_lLE')"
   ]
  },
  {
   "cell_type": "markdown",
   "metadata": {},
   "source": [
    "### Computing a Histogram Concisely\n",
    "\n",
    "As said, we are using NumPy to express our data queries more concisely. The first three lines of the following program compute the histogram of ages in 2015. That is, in three lines we can express the same as in the 13 lines of , seethe function `get_population_stat` under *Bar Plots* in *14-Intro to Plotting*."
   ]
  },
  {
   "cell_type": "code",
   "execution_count": 214,
   "metadata": {
    "collapsed": false,
    "scrolled": false
   },
   "outputs": [
    {
     "data": {
      "image/png": "[encoded data removed]",
      "text/plain": [
       "<matplotlib.figure.Figure at 0x7f377720c2b0>"
      ]
     },
     "metadata": {},
     "output_type": "display_data"
    }
   ],
   "source": [
    "mask = (dd[:,0] == 2015)\n",
    "set_of_ages = np.unique(dd[mask][:,2])\n",
    "freq_ages = np.array([np.sum(dd[mask & (dd[:,2] == age)][:,4]) \n",
    "                      for age in set_of_ages])\n",
    "\n",
    "plt.bar(set_of_ages, freq_ages)\n",
    "plt.show()"
   ]
  },
  {
   "cell_type": "markdown",
   "metadata": {
    "collapsed": false
   },
   "source": [
    "And computing the increase of foreign population from 2014 to 2015 is similarly easy. Read and explain the following program."
   ]
  },
  {
   "cell_type": "code",
   "execution_count": 215,
   "metadata": {
    "collapsed": false
   },
   "outputs": [
    {
     "data": {
      "image/png": "[encoded data removed]",
      "text/plain": [
       "<matplotlib.figure.Figure at 0x7f37740b46a0>"
      ]
     },
     "metadata": {},
     "output_type": "display_data"
    }
   ],
   "source": [
    "mask = (dd[:,3] != 5100)\n",
    "sum_14 = np.sum(dd[(dd[:,0] == 2014) & mask][:,4])\n",
    "sum_15 = np.sum(dd[(dd[:,0] == 2015) & mask][:,4])\n",
    "\n",
    "plt.axis([2013, 2016, 0, max([sum_14, sum_15]) + 2000])\n",
    "plt.bar([2014, 2015], [sum_14, sum_15], width=0.8,  align='center')\n",
    "plt.xticks([2014, 2015])\n",
    "plt.ticklabel_format(useOffset=False)"
   ]
  },
  {
   "cell_type": "markdown",
   "metadata": {},
   "source": [
    "# For what else can we use NumPy?\n",
    "\n",
    "Images are just multi-dimensional arrays. For example, lets have a look at a small running Commander Keen\n",
    "\n",
    "![keen](https://16couleurs.files.wordpress.com/2014/01/commander_keen_sprite_run.gif?w=611)\n",
    "\n",
    "With the following code we receive the image and convert it into a NumPy array so that we can inspect the image data."
   ]
  },
  {
   "cell_type": "code",
   "execution_count": 218,
   "metadata": {
    "collapsed": false
   },
   "outputs": [
    {
     "name": "stdout",
     "output_type": "stream",
     "text": [
      "Downloading file to ./commander_keen_sprite_run.gif\n"
     ]
    },
    {
     "data": {
      "text/plain": [
       "(64, 48, 3)"
      ]
     },
     "execution_count": 218,
     "metadata": {},
     "output_type": "execute_result"
    }
   ],
   "source": [
    "import webget\n",
    "import numpy as np\n",
    "from PIL import Image\n",
    "\n",
    "\n",
    "webget.download('https://16couleurs.files.wordpress.com/2014/01/commander_keen_sprite_run.gif?w=611')\n",
    "\n",
    "im = Image.open('commander_keen_sprite_run.gif')\n",
    "# convert the data to RGB color space\n",
    "rgb_im = im.convert('RGB')\n",
    "\n",
    "im_data = np.copy(np.asarray(rgb_im))  # we have to copy the data as we want to modify it later"
   ]
  },
  {
   "cell_type": "markdown",
   "metadata": {},
   "source": [
    "Let's get a feeling for how colors are distributed in the image by plotting the values per color channel."
   ]
  },
  {
   "cell_type": "code",
   "execution_count": 221,
   "metadata": {
    "collapsed": false
   },
   "outputs": [
    {
     "name": "stdout",
     "output_type": "stream",
     "text": [
      "(3072, 3)\n"
     ]
    },
    {
     "data": {
      "image/png": "[encoded data removed]",
      "text/plain": [
       "<matplotlib.figure.Figure at 0x7f376f2a80f0>"
      ]
     },
     "metadata": {},
     "output_type": "display_data"
    }
   ],
   "source": [
    "import matplotlib.pyplot as plt\n",
    "\n",
    "img_line = im_data.reshape(im_data.shape[0] * im_data.shape[1], im_data.shape[2])\n",
    "print(img_line.shape)\n",
    "plt.plot(img_line[:,0], 'ro')\n",
    "plt.plot(img_line[:,1], 'gx')\n",
    "plt.plot(img_line[:,2], 'b+')\n",
    "plt.show()"
   ]
  },
  {
   "cell_type": "markdown",
   "metadata": {},
   "source": [
    "Replacing a set of RGB values can be done as in the following. We want to give Commander Keen another t-shirt color. So by querying the color at the central pixel `im_data[32,24,:]`, we see that it is `[252, 84, 252]`. Consequently, we find all pixels with these values and assign a new value to those positions."
   ]
  },
  {
   "cell_type": "code",
   "execution_count": 222,
   "metadata": {
    "collapsed": true
   },
   "outputs": [],
   "source": [
    "im_data_orig = np.copy(im_data)"
   ]
  },
  {
   "cell_type": "code",
   "execution_count": 223,
   "metadata": {
    "collapsed": false
   },
   "outputs": [
    {
     "name": "stdout",
     "output_type": "stream",
     "text": [
      "(64, 48, 3)\n",
      "[252  84 252]\n"
     ]
    },
    {
     "data": {
      "image/png": "[encoded data removed]",
      "text/plain": [
       "<matplotlib.figure.Figure at 0x7f377c5652e8>"
      ]
     },
     "metadata": {},
     "output_type": "display_data"
    }
   ],
   "source": [
    "print(im_data.shape)\n",
    "print(im_data_orig[32,24,:])\n",
    "\n",
    "mask = (im_data_orig[:,:,0] == 252) & (im_data_orig[:,:,1] == 84) & (im_data_orig[:,:,2] == 252)\n",
    "im_data[mask] = np.array([250, 230, 0])\n",
    "\n",
    "plt.subplot(1, 2, 1)\n",
    "plt.title('Original')\n",
    "plt.imshow(im_data_orig, interpolation='None')\n",
    "plt.subplot(1, 2, 0)\n",
    "plt.title('Modified')\n",
    "plt.imshow(im_data, interpolation='None')\n",
    "plt.show()"
   ]
  },
  {
   "cell_type": "markdown",
   "metadata": {},
   "source": [
    "As you saw above, each channel for the RGB values is represented with the help of a two-dimensional array. We can split them up to inspect the respective intensities."
   ]
  },
  {
   "cell_type": "code",
   "execution_count": 224,
   "metadata": {
    "collapsed": false
   },
   "outputs": [
    {
     "name": "stdout",
     "output_type": "stream",
     "text": [
      "255\n"
     ]
    },
    {
     "data": {
      "text/plain": [
       "<matplotlib.image.AxesImage at 0x7f376db0fc88>"
      ]
     },
     "execution_count": 224,
     "metadata": {},
     "output_type": "execute_result"
    },
    {
     "data": {
      "image/png": "[encoded data removed]",
      "text/plain": [
       "<matplotlib.figure.Figure at 0x7f37771ed518>"
      ]
     },
     "metadata": {},
     "output_type": "display_data"
    }
   ],
   "source": [
    "red_channel = im_data_orig[:,:,0]\n",
    "print(red_channel[0,0])\n",
    "plt.imshow(red_channel, cmap=plt.cm.Greys, interpolation='None')"
   ]
  },
  {
   "cell_type": "code",
   "execution_count": 225,
   "metadata": {
    "collapsed": false
   },
   "outputs": [
    {
     "data": {
      "image/png": "[encoded data removed]",
      "text/plain": [
       "<matplotlib.figure.Figure at 0x7f3777c0bda0>"
      ]
     },
     "metadata": {},
     "output_type": "display_data"
    }
   ],
   "source": [
    "channels = [('Red', 0), ('Green', 1), ('Blue', 2)]\n",
    "\n",
    "for channel, channel_idx in channels:\n",
    "    plt.subplot(1, 3, channel_idx)\n",
    "    plt.title('{}'.format(channel))\n",
    "    imarray = im_data_orig[:,:,channel_idx]\n",
    "    plt.imshow(imarray, cmap=plt.cm.Greys, interpolation='None')"
   ]
  },
  {
   "cell_type": "code",
   "execution_count": 226,
   "metadata": {
    "collapsed": false
   },
   "outputs": [
    {
     "data": {
      "image/png": "[encoded data removed]",
      "text/plain": [
       "<matplotlib.figure.Figure at 0x7f376f061160>"
      ]
     },
     "metadata": {},
     "output_type": "display_data"
    }
   ],
   "source": [
    "import webget\n",
    "import numpy as np\n",
    "import matplotlib.pyplot as plt\n",
    "from PIL import Image\n",
    "from mpl_toolkits.mplot3d import Axes3D\n",
    "\n",
    "fig = plt.figure()\n",
    "ax = fig.add_subplot(111, projection='3d')\n",
    "\n",
    "x = im_data_orig[:,:,0]\n",
    "y = im_data_orig[:,:,1]\n",
    "z = im_data_orig[:,:,2]\n",
    "\n",
    "colors = im_data_orig[:,:,:].reshape(im_data_orig.shape[0] * im_data_orig.shape[1], 3) / 255\n",
    "ax.scatter(x, y, z, facecolors=colors, linewidth=0.2)\n",
    "\n",
    "ax.set_xlabel('Red')\n",
    "ax.set_ylabel('Green')\n",
    "ax.set_zlabel('Blue')\n",
    "\n",
    "plt.show()"
   ]
  },
  {
   "cell_type": "code",
   "execution_count": null,
   "metadata": {
    "collapsed": true
   },
   "outputs": [],
   "source": [
    "from IPython.display import YouTubeVideo\n",
    "YouTubeVideo('lbcLGRqLHf0')"
   ]
  },
  {
   "cell_type": "markdown",
   "metadata": {
    "collapsed": true
   },
   "source": [
    "# Exercises!!!\n",
    "\n",
    "Group *Frantic Midnight* presents their tasks on analyzing sales data from more than 16500 video games:\n",
    "https://github.com/DaMexicanJustice/frantic_midnight\n",
    "\n",
    "\n",
    "\n",
    "## Hand-in Guidelines\n",
    "How is your hand-in expected to look like?\n",
    "\n",
    "  * You push the source code computing your solutions to a repository on Github.\n",
    "  * You create a README.md file that presents your solution, each result per questions, and it explains how to run your code to reproduce your results.\n",
    "  * Inform Helge when you are done. At latest at 24:00 the March 7th.\n",
    "  * You prepare a short (max. 10 minutes) presentation for the next session, so that the other students know what you have done and how you tackled the problem. Furthermore, based on this presentation group *Frantic Midnight* will choose the winner of this round."
   ]
  },
  {
   "cell_type": "code",
   "execution_count": null,
   "metadata": {
    "collapsed": true
   },
   "outputs": [],
   "source": []
  }
 ],
 "metadata": {
  "kernelspec": {
   "display_name": "Python 3",
   "language": "python",
   "name": "python3"
  },
  "language_info": {
   "codemirror_mode": {
    "name": "ipython",
    "version": 3
   },
   "file_extension": ".py",
   "mimetype": "text/x-python",
   "name": "python",
   "nbconvert_exporter": "python",
   "pygments_lexer": "ipython3",
   "version": "3.4.3"
  }
 },
 "nbformat": 4,
 "nbformat_minor": 2
}
